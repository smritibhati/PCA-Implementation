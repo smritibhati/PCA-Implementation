{
 "cells": [
  {
   "cell_type": "markdown",
   "metadata": {},
   "source": [
    "# 2_1. Implement logistic regression"
   ]
  },
  {
   "cell_type": "code",
   "execution_count": 29,
   "metadata": {},
   "outputs": [],
   "source": [
    "import pandas as pd\n",
    "import numpy as np\n",
    "import math\n",
    "from sklearn.metrics import r2_score\n",
    "import matplotlib.pyplot as plt\n",
    "from collections import Counter"
   ]
  },
  {
   "cell_type": "code",
   "execution_count": 2,
   "metadata": {},
   "outputs": [],
   "source": [
    "fulldata=pd.read_csv('AdmissionDataset/data.csv')\n",
    "fulldata=fulldata.drop(columns=['Serial No.'])\n",
    "\n",
    "data,testdata=np.split(fulldata,[int(.8*len(fulldata))])\n",
    "\n",
    "outputdata=data[data.columns[-1]]\n",
    "inputdata = data[data.columns[0:7]]"
   ]
  },
  {
   "cell_type": "code",
   "execution_count": 3,
   "metadata": {},
   "outputs": [],
   "source": [
    "mean=np.mean(inputdata)\n",
    "stdev=np.std(inputdata)"
   ]
  },
  {
   "cell_type": "code",
   "execution_count": 4,
   "metadata": {},
   "outputs": [
    {
     "name": "stderr",
     "output_type": "stream",
     "text": [
      "/Library/Frameworks/Python.framework/Versions/3.7/lib/python3.7/site-packages/ipykernel_launcher.py:2: SettingWithCopyWarning: \n",
      "A value is trying to be set on a copy of a slice from a DataFrame.\n",
      "Try using .loc[row_indexer,col_indexer] = value instead\n",
      "\n",
      "See the caveats in the documentation: http://pandas.pydata.org/pandas-docs/stable/indexing.html#indexing-view-versus-copy\n",
      "  \n"
     ]
    }
   ],
   "source": [
    "for i in range(len(inputdata.columns)):\n",
    "    inputdata[inputdata.columns[i]]= [(1.0 * (c-mean[i]))/stdev[i] for c in inputdata[inputdata.columns[i]]]"
   ]
  },
  {
   "cell_type": "code",
   "execution_count": 5,
   "metadata": {},
   "outputs": [],
   "source": [
    "X = np.c_[np.ones((inputdata.shape[0], 1)), inputdata]\n",
    "Y=np.array(outputdata)"
   ]
  },
  {
   "cell_type": "code",
   "execution_count": 6,
   "metadata": {},
   "outputs": [],
   "source": []
  },
  {
   "cell_type": "code",
   "execution_count": 7,
   "metadata": {},
   "outputs": [
    {
     "data": {
      "text/plain": [
       "array([0., 0., 0., 0., 0., 0., 0., 0.])"
      ]
     },
     "execution_count": 7,
     "metadata": {},
     "output_type": "execute_result"
    }
   ],
   "source": [
    "theta"
   ]
  },
  {
   "cell_type": "code",
   "execution_count": 8,
   "metadata": {},
   "outputs": [],
   "source": [
    "def sigmoid(x):\n",
    "    return 1 / (1 + np.exp(-x))"
   ]
  },
  {
   "cell_type": "code",
   "execution_count": 9,
   "metadata": {},
   "outputs": [],
   "source": [
    "def weightedinput(theta, x):\n",
    "    return np.dot(x, theta)"
   ]
  },
  {
   "cell_type": "code",
   "execution_count": 10,
   "metadata": {},
   "outputs": [],
   "source": [
    "def hx(theta, x):\n",
    "    return sigmoid(weightedinput(theta, x))"
   ]
  },
  {
   "cell_type": "code",
   "execution_count": 11,
   "metadata": {},
   "outputs": [],
   "source": [
    "def cost_function(theta, x, y): \n",
    "    m = x.shape[0]\n",
    "    total_cost = -(1 / m) * np.sum( y * np.log(hx(theta, x)) + (1 - y) * np.log(1 - hx(theta, x)))\n",
    "    return total_cost\n"
   ]
  },
  {
   "cell_type": "code",
   "execution_count": 12,
   "metadata": {},
   "outputs": [
    {
     "data": {
      "text/plain": [
       "0.6931471805599455"
      ]
     },
     "execution_count": 12,
     "metadata": {},
     "output_type": "execute_result"
    }
   ],
   "source": [
    "cost_function(theta,X, Y)"
   ]
  },
  {
   "cell_type": "code",
   "execution_count": 13,
   "metadata": {},
   "outputs": [],
   "source": [
    "def gradient(theta, x, y, alpha,iterations):\n",
    "    # Computes the gradient of the cost function at the point theta\n",
    "    cost_history = [0] * iterations\n",
    "    m = x.shape[0]\n",
    "    for iteration in range(iterations):\n",
    "        h= hx(theta,x)\n",
    "        loss = h-y\n",
    "        grd = np.dot(X.T,loss) / m\n",
    "        theta = theta - alpha * grd\n",
    "\n",
    "        cost = cost_function(theta,x, y)\n",
    "        cost_history[iteration] = cost\n",
    "    \n",
    "    return theta,cost_history"
   ]
  },
  {
   "cell_type": "code",
   "execution_count": 14,
   "metadata": {},
   "outputs": [
    {
     "name": "stdout",
     "output_type": "stream",
     "text": [
      "[ 1.06170846  0.12270189  0.10652058  0.07507187 -0.02292523  0.07185754\n",
      "  0.39214199  0.06179621]\n"
     ]
    }
   ],
   "source": [
    "theta = np.zeros(X.shape[1])\n",
    "theta,cost_history = gradient(theta,X,Y,0.009, 10000)\n",
    "print(theta)"
   ]
  },
  {
   "cell_type": "code",
   "execution_count": 15,
   "metadata": {},
   "outputs": [],
   "source": [
    "def predict(row, B):\n",
    "    row = np.insert(row, 0, 1, axis=0)  \n",
    "    \n",
    "    return sigmoid(np.dot(row,B))"
   ]
  },
  {
   "cell_type": "code",
   "execution_count": 16,
   "metadata": {},
   "outputs": [],
   "source": [
    "def validate(B,testdata,threshold):\n",
    "    global correct\n",
    "    global wrong\n",
    "    global tp\n",
    "    global fp\n",
    "    global fn\n",
    "    global tn\n",
    "    correct=0\n",
    "    wrong=0\n",
    "    tp=0\n",
    "    tn=0\n",
    "    fp=0\n",
    "    fn=0\n",
    "    validatedata = []\n",
    "    for i in range(len(testdata.columns)-1):\n",
    "        col = testdata[testdata.columns[i]]\n",
    "        normcol = [1.0 * (c-mean[i])/stdev[i] for c in col]\n",
    "        validatedata.append(normcol)\n",
    "    \n",
    "    validatevector=np.array(validatedata).T\n",
    "    actual=[]\n",
    "    op = testdata[testdata.keys()[-1]]\n",
    "    op = np.array(op)\n",
    "    for i in range(len(op)):\n",
    "        if( op[i] >=threshold):\n",
    "            actual.append(1)\n",
    "        else:\n",
    "            actual.append(0)\n",
    "\n",
    "    predicted=[]\n",
    "    for i in range(len(validatevector)):\n",
    "        row=validatevector[i]\n",
    "        y=predict(row,theta)\n",
    "        if y>=threshold:\n",
    "            predicted.append(1)\n",
    "        else:\n",
    "            predicted.append(0)\n",
    "\n",
    "    for i in range(len(actual)):\n",
    "        if actual[i]==predicted[i]:\n",
    "            if(predicted[i]==1):\n",
    "                tp+=1;\n",
    "            else:\n",
    "                tn+=1;\n",
    "            correct+=1 \n",
    "        else:\n",
    "            if(predicted[i]==0):\n",
    "                fn+=1;\n",
    "            else:\n",
    "                fp+=1;\n",
    "            wrong+=1\n",
    "    print(correct)\n",
    "    accuracy= (correct/(correct+wrong))\n",
    "    precision = tp/(tp+fp)\n",
    "    recall = tp/(tp+fn)\n",
    "    return accuracy,precision,recall"
   ]
  },
  {
   "cell_type": "code",
   "execution_count": 17,
   "metadata": {},
   "outputs": [
    {
     "name": "stdout",
     "output_type": "stream",
     "text": [
      "87\n",
      "0.9666666666666667 0.975609756097561 0.9876543209876543\n"
     ]
    }
   ],
   "source": [
    "correct=0\n",
    "wrong=0\n",
    "tp=0\n",
    "tn=0\n",
    "fp=0\n",
    "fn=0\n",
    "accuracy,precision,recall = validate(theta,testdata,0.50)\n",
    "print(accuracy,precision,recall)"
   ]
  },
  {
   "cell_type": "markdown",
   "metadata": {},
   "source": [
    "# KNN on Admission Dataset"
   ]
  },
  {
   "cell_type": "code",
   "execution_count": 21,
   "metadata": {},
   "outputs": [],
   "source": [
    "def eucliddistance(datarow,testrow):\n",
    "#     print(\"datarow\", datarow)\n",
    "#     print(\"testrow\", testrow)\n",
    "    dist=0\n",
    "    for x in range(len(datarow.keys())-1):\n",
    "#         print(\"values of both the rows\",datarow[datarow.keys()[x]],testrow[testrow.keys()[x]])\n",
    "        dist+= math.pow(datarow[datarow.keys()[x]]-testrow[testrow.keys()[x]],2);\n",
    "#         print(\"dist\",dist)\n",
    "    \n",
    "    dist= math.sqrt(dist)\n",
    "    return dist"
   ]
  },
  {
   "cell_type": "code",
   "execution_count": 26,
   "metadata": {},
   "outputs": [],
   "source": [
    "def maxfreq(arrayd):\n",
    "    c=Counter(arrayd)\n",
    "    value,count= c.most_common()[0]\n",
    "#     print(\"most common\",value)\n",
    "    return value    "
   ]
  },
  {
   "cell_type": "code",
   "execution_count": 60,
   "metadata": {},
   "outputs": [],
   "source": [
    "def finddistances(data,testdata,k):\n",
    "    global correct\n",
    "    global wrong,tp,fp,tn,fn\n",
    "    correct=0\n",
    "    wrong=0\n",
    "    for x in range(len(testdata)):\n",
    "        distancevector=[]\n",
    "        for y in range(len(data)):\n",
    "#             print(data.iloc[y],testdata.iloc[x])\n",
    "            dist= eucliddistance(data.iloc[y],testdata.iloc[x])\n",
    "            datarow = data.iloc[y]\n",
    "            distancevector.append((dist,datarow[datarow.keys()[-1]]))\n",
    "        \n",
    "#         print(distancevector)\n",
    "        sorted_d = sorted(distancevector)\n",
    "#         print(sorted_d)\n",
    "        i=0\n",
    "        arrayd=[]\n",
    "        \n",
    "        for key in sorted_d:\n",
    "            if i==k:\n",
    "                break\n",
    "            arrayd.append(key[1])\n",
    "            i+=1\n",
    "        \n",
    "#         print(\"arrayd\", arrayd)\n",
    "        \n",
    "        predictedlabel = maxfreq(arrayd)\n",
    "#         print(\"two values to be compared\",predictedlabel, list(testdata.iloc[x])[0])\n",
    "#         print(predictedlabel, list(testdata.iloc[x])[-1])\n",
    "        \n",
    "        if predictedlabel== list(testdata.iloc[x])[-1]:\n",
    "            if predictedlabel==0:\n",
    "                tn+=1\n",
    "            else:\n",
    "                tp+=1\n",
    "            correct+=1\n",
    "        else:\n",
    "            if predictedlabel==0:\n",
    "                fn+=1\n",
    "            else:\n",
    "                fp+=1\n",
    "            wrong+=1\n",
    "   \n",
    "    accuracy=correct/(wrong+correct)\n",
    "    precision=(tp/(tp+fp))\n",
    "    recall=(tp/(tp+fn))\n",
    "    f1score=(2/((1/precision)+(1/recall)))\n",
    "    return accuracy,precision,recall,f1score"
   ]
  },
  {
   "cell_type": "code",
   "execution_count": 63,
   "metadata": {},
   "outputs": [
    {
     "name": "stdout",
     "output_type": "stream",
     "text": [
      "86\n",
      "86\n",
      "87\n",
      "86\n",
      "85\n",
      "83\n",
      "85\n",
      "83\n",
      "84\n",
      "84\n",
      "83\n",
      "84\n",
      "84\n",
      "84\n",
      "85\n",
      "85\n",
      "85\n"
     ]
    }
   ],
   "source": [
    "ylabel=[]\n",
    "xlabel=[]\n",
    "correct=0\n",
    "wrong=0\n",
    "A=[]\n",
    "F=[]\n",
    "P=[]\n",
    "R=[]\n",
    "\n",
    "for x in range(1, int(math.sqrt(len(data)))):\n",
    "    tp=0;\n",
    "    tn=0;\n",
    "    fp=0;\n",
    "    fn=0;\n",
    "    accuracy,precision,recall,f1score=finddistances(data,testdata,x)\n",
    "    A.append(accuracy)\n",
    "    P.append(precision)\n",
    "    F.append(f1score)\n",
    "    R.append(recall)\n",
    "    ylabel.append(accuracy)\n",
    "    xlabel.append(x)"
   ]
  },
  {
   "cell_type": "code",
   "execution_count": 65,
   "metadata": {},
   "outputs": [
    {
     "data": {
      "text/plain": [
       "0.07777777777777778"
      ]
     },
     "execution_count": 65,
     "metadata": {},
     "output_type": "execute_result"
    }
   ],
   "source": [
    "max(ylabel)"
   ]
  },
  {
   "cell_type": "markdown",
   "metadata": {},
   "source": [
    "The accuracy when KNN is used is .077 as compared to 0.96 when K means is used."
   ]
  },
  {
   "cell_type": "markdown",
   "metadata": {},
   "source": [
    "# 2_3. Corelation between threshold value vs precision and recall"
   ]
  },
  {
   "cell_type": "code",
   "execution_count": 66,
   "metadata": {},
   "outputs": [
    {
     "name": "stdout",
     "output_type": "stream",
     "text": [
      "90\n",
      "90\n",
      "90\n",
      "88\n",
      "87\n",
      "81\n",
      "71\n",
      "79\n",
      "82\n"
     ]
    }
   ],
   "source": [
    "A=[]\n",
    "P=[]\n",
    "R=[]\n",
    "T=[]\n",
    "for i in range(1,10):\n",
    "\n",
    "    th = float(i/10)\n",
    "    accuracy,precision,recall = validate(theta,testdata,th)\n",
    "    A.append(accuracy)\n",
    "    P.append(precision)\n",
    "    R.append(recall)\n",
    "    T.append(th)"
   ]
  },
  {
   "cell_type": "code",
   "execution_count": 67,
   "metadata": {},
   "outputs": [
    {
     "data": {
      "image/png": "[encoded data removed]",
      "text/plain": [
       "<Figure size 432x288 with 1 Axes>"
      ]
     },
     "metadata": {
      "needs_background": "light"
     },
     "output_type": "display_data"
    }
   ],
   "source": [
    "fig, ax = plt.subplots()\n",
    "ax.plot(T, A,  label='Accuracy')\n",
    "ax.plot(T, P, label='Precision')\n",
    "ax.plot(T, R,  label='Recall')\n",
    "legend = ax.legend(loc='lower left')\n",
    "\n",
    "plt.show()"
   ]
  },
  {
   "cell_type": "markdown",
   "metadata": {},
   "source": []
  }
 ],
 "metadata": {
  "kernelspec": {
   "display_name": "Python 3",
   "language": "python",
   "name": "python3"
  },
  "language_info": {
   "codemirror_mode": {
    "name": "ipython",
    "version": 3
   },
   "file_extension": ".py",
   "mimetype": "text/x-python",
   "name": "python",
   "nbconvert_exporter": "python",
   "pygments_lexer": "ipython3",
   "version": "3.7.1"
  }
 },
 "nbformat": 4,
 "nbformat_minor": 2
}
