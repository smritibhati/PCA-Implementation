{
 "cells": [
  {
   "cell_type": "code",
   "execution_count": 167,
   "metadata": {},
   "outputs": [],
   "source": [
    "import pandas as pd\n",
    "import numpy as np\n",
    "import math\n",
    "from sklearn.metrics import r2_score\n",
    "import matplotlib.pyplot as plt\n",
    "from collections import Counter"
   ]
  },
  {
   "cell_type": "code",
   "execution_count": 168,
   "metadata": {},
   "outputs": [],
   "source": [
    "fulldata=pd.read_csv('wine-quality/data.csv', delimiter = ';')\n",
    "\n",
    "data,testdata=np.split(fulldata,[int(.8*len(fulldata))])\n",
    "\n",
    "outputdata=data[data.columns[-1]]\n",
    "inputdata = data[data.columns[0:-1]]"
   ]
  },
  {
   "cell_type": "code",
   "execution_count": 169,
   "metadata": {},
   "outputs": [
    {
     "name": "stderr",
     "output_type": "stream",
     "text": [
      "/Library/Frameworks/Python.framework/Versions/3.7/lib/python3.7/site-packages/ipykernel_launcher.py:4: SettingWithCopyWarning: \n",
      "A value is trying to be set on a copy of a slice from a DataFrame.\n",
      "Try using .loc[row_indexer,col_indexer] = value instead\n",
      "\n",
      "See the caveats in the documentation: http://pandas.pydata.org/pandas-docs/stable/indexing.html#indexing-view-versus-copy\n",
      "  after removing the cwd from sys.path.\n"
     ]
    }
   ],
   "source": [
    "mean=np.mean(inputdata)\n",
    "stdev=np.std(inputdata)\n",
    "for i in range(len(inputdata.columns)):\n",
    "    inputdata[inputdata.columns[i]]= [(1.0 * (c-mean[i]))/stdev[i] for c in inputdata[inputdata.columns[i]]]"
   ]
  },
  {
   "cell_type": "code",
   "execution_count": 170,
   "metadata": {},
   "outputs": [],
   "source": [
    "def sigmoid(x):\n",
    "    return 1 / (1 + np.exp(-x))"
   ]
  },
  {
   "cell_type": "code",
   "execution_count": 171,
   "metadata": {},
   "outputs": [],
   "source": [
    "def weightedinput(theta, x):\n",
    "    return np.dot(x, theta)"
   ]
  },
  {
   "cell_type": "code",
   "execution_count": 172,
   "metadata": {},
   "outputs": [],
   "source": [
    "def hx(theta, x):\n",
    "    return sigmoid(weightedinput(theta, x))"
   ]
  },
  {
   "cell_type": "code",
   "execution_count": 173,
   "metadata": {},
   "outputs": [],
   "source": [
    "def cost_function(theta, x, y): \n",
    "    m = x.shape[0]\n",
    "    total_cost = -(1 / m) * np.sum( y * np.log(hx(theta, x)) + (1 - y) * np.log(1 - hx(theta, x)))\n",
    "    return total_cost\n"
   ]
  },
  {
   "cell_type": "code",
   "execution_count": 174,
   "metadata": {},
   "outputs": [],
   "source": [
    "def gradient(theta, x, y, alpha,iterations):\n",
    "    # Computes the gradient of the cost function at the point theta\n",
    "    cost_history = [0] * iterations\n",
    "    m = x.shape[0]\n",
    "    for iteration in range(iterations):\n",
    "        h= hx(theta,x)\n",
    "        loss = h-y\n",
    "        grd = np.dot(X.T,loss) / m\n",
    "        theta = theta - alpha * grd\n",
    "\n",
    "        cost = cost_function(theta,x, y)\n",
    "        cost_history[iteration] = cost\n",
    "    \n",
    "    return theta,cost_history"
   ]
  },
  {
   "cell_type": "markdown",
   "metadata": {},
   "source": [
    "# One vs All"
   ]
  },
  {
   "cell_type": "code",
   "execution_count": 175,
   "metadata": {},
   "outputs": [
    {
     "name": "stdout",
     "output_type": "stream",
     "text": [
      "7\n",
      "6\n",
      "5\n",
      "4\n",
      "8\n",
      "3\n",
      "9\n"
     ]
    }
   ],
   "source": [
    "X = np.c_[np.ones((inputdata.shape[0], 1)), inputdata]\n",
    "allthetas = {}\n",
    "uniquelabels = outputdata.unique()\n",
    "i=0;\n",
    "for label in uniquelabels:\n",
    "    theta = np.zeros(X.shape[1])\n",
    "    Y=np.array(outputdata)\n",
    "    print(label)\n",
    "    for j in range(len(Y)):\n",
    "        if Y[j]==label:\n",
    "            Y[j]=1\n",
    "        else:\n",
    "            Y[j]=0\n",
    "    cost=cost_function(theta, X, Y)\n",
    "\n",
    "    theta,cost_history = gradient(theta,X,Y,0.009, 10000)\n",
    "    allthetas[label] = theta\n",
    "#     print(theta)    "
   ]
  },
  {
   "cell_type": "code",
   "execution_count": 176,
   "metadata": {},
   "outputs": [
    {
     "data": {
      "text/plain": [
       "{7: array([-1.9041058 ,  0.15921054, -0.39709352, -0.13887166,  0.41199906,\n",
       "        -0.42518872,  0.12000668, -0.04215457, -0.35771207,  0.20854392,\n",
       "         0.16455905,  0.74074963]),\n",
       " 6: array([-0.21961053, -0.10943575, -0.34941233,  0.04094271,  0.08553345,\n",
       "         0.03959342,  0.0372674 , -0.05923384,  0.05538184, -0.04241453,\n",
       "         0.02608542,  0.18728942]),\n",
       " 5: array([-1.11342389, -0.00871503,  0.37837607,  0.01420935, -0.41561866,\n",
       "        -0.0189557 , -0.15278823,  0.20511822,  0.25252564, -0.09372385,\n",
       "        -0.17184598, -1.01722261]),\n",
       " 4: array([-3.65724219,  0.2772723 ,  0.54512344, -0.09647156, -0.38376353,\n",
       "         0.03002259, -0.66084429, -0.13799687,  0.23252718,  0.10604855,\n",
       "        -0.0098103 , -0.3593969 ]),\n",
       " 8: array([-3.46373321, -0.03607751, -0.22107701,  0.00908872,  0.32213828,\n",
       "        -0.11873607,  0.25297098, -0.1045496 , -0.22650015,  0.08011724,\n",
       "        -0.03425756,  0.678617  ]),\n",
       " 3: array([-4.29904862e+00,  1.90205949e-01,  7.27868305e-02, -4.68105108e-02,\n",
       "        -6.00375668e-02,  6.11624810e-02,  2.55587169e-01,  2.64325052e-02,\n",
       "         2.35882034e-03, -1.96411983e-03, -2.19257492e-02,  9.19012584e-03]),\n",
       " 9: array([-4.42398026e+00,  5.12326762e-02, -5.96328182e-03,  2.90923285e-02,\n",
       "         3.36495473e-03, -1.40717007e-02, -8.31824904e-03, -1.64029842e-04,\n",
       "        -6.84013259e-03,  3.60613913e-02, -1.45491475e-02,  4.09267810e-02])}"
      ]
     },
     "execution_count": 176,
     "metadata": {},
     "output_type": "execute_result"
    }
   ],
   "source": [
    "allthetas"
   ]
  },
  {
   "cell_type": "code",
   "execution_count": 177,
   "metadata": {},
   "outputs": [],
   "source": [
    "def predict(row, B):\n",
    "    row = np.insert(row, 0, 1, axis=0)  \n",
    "    return sigmoid(np.dot(row,B))"
   ]
  },
  {
   "cell_type": "code",
   "execution_count": 186,
   "metadata": {},
   "outputs": [],
   "source": [
    "def validate():\n",
    "    global correct\n",
    "    global wrong\n",
    "    global tp\n",
    "    global fp\n",
    "    global fn\n",
    "    global tn\n",
    "    global validatevector\n",
    "    global predicted\n",
    "    correct=0\n",
    "    wrong=0\n",
    "    tp=0\n",
    "    tn=0\n",
    "    fp=0\n",
    "    fn=0\n",
    "    validatedata = []\n",
    "    for i in range(len(testdata.columns)-1):\n",
    "        col = testdata[testdata.columns[i]]\n",
    "        normcol = [1.0 * (c-mean[i])/stdev[i] for c in col]\n",
    "        validatedata.append(normcol)\n",
    "    \n",
    "    validatevector=np.array(validatedata).T\n",
    "    actual = np.array(testdata[testdata.keys()[-1]])\n",
    "    \n",
    "    predicted=[]\n",
    "    y={}\n",
    "    for i in range(len(validatevector)):\n",
    "        row=validatevector[i]\n",
    "        maxv=0\n",
    "        for label in allthetas:\n",
    "            y[label] = predict(row,allthetas[label])\n",
    "            if(y[label]>maxv):\n",
    "                maxv=y[label]\n",
    "                maxlabel=label\n",
    "        predicted.append(maxlabel)\n",
    "    print(predicted)\n",
    "\n",
    "    for i in range(len(actual)):\n",
    "        if actual[i]==predicted[i]:\n",
    "            if(predicted[i]==1):\n",
    "                tp+=1;\n",
    "            else:\n",
    "                tn+=1;\n",
    "            correct+=1 \n",
    "        else:\n",
    "            if(predicted[i]==0):\n",
    "                fn+=1;\n",
    "            else:\n",
    "                fp+=1;\n",
    "            wrong+=1\n",
    "    accuracy= (correct/(correct+wrong))\n",
    "    return accuracy"
   ]
  },
  {
   "cell_type": "code",
   "execution_count": 187,
   "metadata": {},
   "outputs": [
    {
     "name": "stdout",
     "output_type": "stream",
     "text": [
      "[6, 7, 6, 6, 6, 6, 5, 6, 6, 7, 7, 6, 6, 6, 6, 6, 6, 7, 5, 5, 5, 6, 6, 6, 6, 6, 5, 6, 6, 6, 7, 5, 6, 5, 5, 6, 7, 7, 6, 7, 6, 6, 6, 6, 6, 6, 6, 6, 6, 6, 6, 6, 6, 6, 6, 7, 6, 5, 6, 6, 6, 6, 6, 6, 6, 6, 6, 6, 6, 6, 6, 6, 6, 7, 6, 6, 5, 6, 6, 6, 7, 5, 6, 6, 6, 5, 6, 5, 6, 6, 6, 6, 6, 6, 5, 6, 6, 6, 6, 6, 6, 6, 5, 6, 6, 7, 6, 6, 6, 7, 6, 6, 6, 6, 6, 6, 6, 6, 6, 6, 6, 6, 6, 6, 6, 6, 6, 6, 6, 7, 5, 7, 5, 6, 5, 7, 6, 6, 6, 6, 6, 5, 6, 6, 6, 6, 6, 6, 5, 6, 6, 6, 5, 5, 6, 5, 5, 7, 6, 6, 6, 6, 5, 7, 6, 6, 6, 6, 6, 6, 6, 6, 6, 6, 6, 7, 6, 5, 6, 6, 6, 6, 6, 6, 6, 6, 6, 6, 6, 6, 6, 6, 7, 6, 7, 5, 5, 6, 6, 6, 6, 6, 5, 7, 6, 6, 6, 6, 6, 6, 6, 6, 5, 6, 6, 6, 6, 5, 5, 7, 6, 6, 6, 7, 6, 6, 6, 6, 5, 6, 6, 5, 6, 7, 6, 6, 6, 6, 7, 6, 6, 6, 6, 6, 6, 6, 6, 7, 6, 6, 6, 5, 6, 7, 6, 6, 6, 6, 6, 6, 6, 6, 6, 6, 6, 6, 5, 6, 6, 6, 7, 6, 6, 6, 6, 5, 6, 6, 6, 6, 6, 6, 6, 7, 6, 7, 6, 6, 6, 6, 6, 6, 6, 6, 6, 5, 6, 6, 6, 6, 6, 6, 6, 6, 6, 6, 6, 6, 6, 6, 6, 6, 6, 7, 6, 6, 6, 5, 6, 5, 6, 6, 7, 6, 6, 6, 7, 6, 6, 6, 6, 6, 6, 6, 7, 6, 7, 5, 6, 6, 5, 6, 6, 6, 6, 6, 6, 6, 5, 6, 6, 6, 5, 6, 5, 6, 6, 6, 5, 7, 6, 6, 6, 6, 6, 5, 5, 5, 6, 6, 6, 5, 5, 6, 7, 6, 5, 6, 6, 7, 6, 5, 6, 6, 7, 6, 6, 6, 6, 6, 6, 6, 6, 6, 6, 6, 6, 6, 6, 6, 5, 6, 6, 7, 5, 6, 6, 6, 6, 6, 6, 6, 6, 6, 6, 6, 6, 6, 6, 6, 6, 6, 5, 6, 6, 6, 5, 6, 6, 6, 6, 6, 6, 6, 6, 6, 5, 6, 6, 6, 6, 5, 6, 6, 6, 6, 6, 6, 6, 6, 7, 6, 6, 6, 6, 6, 6, 6, 5, 6, 6, 6, 6, 6, 6, 6, 7, 6, 6, 6, 6, 6, 6, 6, 6, 6, 6, 6, 6, 6, 5, 6, 6, 6, 5, 6, 6, 6, 6, 5, 5, 6, 7, 6, 6, 6, 6, 6, 6, 6, 6, 6, 6, 6, 6, 6, 5, 6, 6, 6, 5, 5, 6, 6, 6, 6, 6, 6, 6, 6, 6, 6, 6, 6, 7, 6, 6, 5, 6, 6, 5, 6, 6, 6, 7, 6, 6, 5, 6, 6, 6, 6, 6, 6, 6, 6, 5, 6, 6, 6, 6, 6, 6, 5, 6, 6, 6, 6, 6, 6, 6, 6, 6, 7, 6, 6, 6, 6, 6, 6, 6, 6, 6, 6, 5, 7, 6, 6, 6, 7, 6, 7, 5, 6, 6, 6, 6, 6, 6, 6, 6, 6, 6, 6, 7, 6, 6, 6, 5, 7, 6, 6, 7, 6, 6, 6, 6, 6, 7, 6, 5, 6, 6, 6, 6, 6, 5, 6, 6, 6, 6, 6, 5, 6, 6, 5, 6, 6, 7, 5, 6, 5, 6, 6, 6, 6, 5, 6, 6, 6, 6, 5, 5, 6, 6, 6, 7, 7, 6, 6, 6, 6, 6, 5, 6, 6, 6, 6, 6, 6, 7, 6, 6, 6, 6, 6, 6, 6, 6, 7, 6, 7, 5, 5, 5, 5, 7, 5, 6, 6, 6, 6, 5, 7, 6, 6, 5, 6, 7, 6, 5, 6, 6, 6, 6, 6, 6, 7, 6, 7, 6, 6, 6, 6, 6, 6, 7, 5, 5, 6, 6, 6, 6, 6, 6, 6, 7, 6, 6, 7, 6, 6, 7, 6, 6, 7, 5, 6, 6, 5, 6, 6, 6, 5, 7, 6, 5, 5, 6, 6, 6, 6, 6, 6, 6, 6, 6, 6, 6, 6, 6, 6, 6, 6, 6, 6, 7, 6, 6, 6, 6, 6, 6, 5, 7, 6, 6, 6, 6, 6, 6, 6, 6, 6, 5, 6, 5, 5, 6, 6, 6, 6, 6, 6, 6, 6, 6, 6, 6, 6, 6, 6, 6, 6, 6, 6, 6, 6, 6, 6, 6, 6, 6, 7, 6, 6, 6, 6, 6, 6, 6, 6, 7, 6, 5, 6, 7, 6, 6, 6, 6, 5, 6, 6, 6, 6, 6, 7, 6, 6, 7, 6, 6, 6, 6, 5, 6, 6, 6, 6, 6, 6, 6, 7, 6, 6, 6, 6, 6, 6, 6, 6, 6, 6, 6, 7, 5, 6, 7, 6, 6, 7, 6, 7, 6, 6, 7, 5, 7, 6, 6, 6, 6, 6, 6, 6, 6, 6, 7, 6, 6, 6]\n"
     ]
    }
   ],
   "source": [
    "accuracy= validate()"
   ]
  },
  {
   "cell_type": "code",
   "execution_count": 188,
   "metadata": {},
   "outputs": [
    {
     "name": "stdout",
     "output_type": "stream",
     "text": [
      "0.5147392290249433\n"
     ]
    }
   ],
   "source": [
    "print(accuracy)"
   ]
  },
  {
   "cell_type": "markdown",
   "metadata": {},
   "source": [
    "# One vs one"
   ]
  },
  {
   "cell_type": "code",
   "execution_count": 189,
   "metadata": {},
   "outputs": [
    {
     "name": "stderr",
     "output_type": "stream",
     "text": [
      "/Library/Frameworks/Python.framework/Versions/3.7/lib/python3.7/site-packages/ipykernel_launcher.py:16: SettingWithCopyWarning: \n",
      "A value is trying to be set on a copy of a slice from a DataFrame.\n",
      "Try using .loc[row_indexer,col_indexer] = value instead\n",
      "\n",
      "See the caveats in the documentation: http://pandas.pydata.org/pandas-docs/stable/indexing.html#indexing-view-versus-copy\n",
      "  app.launch_new_instance()\n"
     ]
    }
   ],
   "source": [
    "onevsonetheta = {}\n",
    "length = len(uniquelabels)\n",
    "for i in range(length):\n",
    "    for j in range(length):\n",
    "        if i<j:\n",
    "            first = uniquelabels[i]\n",
    "            second = uniquelabels[j]\n",
    "            newdata= data[data['quality']==first]\n",
    "            newdata2 =data[data['quality']==second]\n",
    "            newdata.append(newdata2)\n",
    "            op=newdata[newdata.columns[-1]]\n",
    "            ip=newdata[newdata.columns[0:-1]]\n",
    "            mean=np.mean(ip)\n",
    "            stdev=np.std(ip)\n",
    "            for k in range(len(ip.columns)):\n",
    "                ip[ip.columns[k]]= [(1.0 * (c-mean[k]))/stdev[k] for c in ip[ip.columns[k]]]\n",
    "            X = np.c_[np.ones((ip.shape[0], 1)), ip]\n",
    "            Y = Y=np.array(op)\n",
    "            for l in range(len(Y)):\n",
    "                if Y[l]==first:\n",
    "                    Y[l]=0\n",
    "                else:\n",
    "                    Y[l]=1\n",
    "            theta = np.zeros(X.shape[1])\n",
    "            theta,cost_history = gradient(theta,X,Y,0.009, 10000)\n",
    "            onevsonetheta[(first, second)]=theta      "
   ]
  },
  {
   "cell_type": "code",
   "execution_count": 198,
   "metadata": {},
   "outputs": [],
   "source": [
    "def validateonevsone(inputdata, testdata):\n",
    "    global correct\n",
    "    global wrong\n",
    "    correct=0\n",
    "    wrong=0\n",
    "    validatedata = []\n",
    "    for i in range(len(testdata.columns)-1):\n",
    "        col = testdata[testdata.columns[i]]\n",
    "        normcol = [1.0 * (c-mean[i])/stdev[i] for c in col]\n",
    "        validatedata.append(normcol)\n",
    "    \n",
    "    validatetrans=np.array(validatedata).T\n",
    "    actual = np.array(testdata[testdata.keys()[-1]])\n",
    "    \n",
    "    predicts=[]\n",
    "    for i in range(len(validatetrans)):\n",
    "        row=validatetrans[i]\n",
    "        y=[]\n",
    "        for key in onevsonetheta:\n",
    "            if predict(row,onevsonetheta[key])<0.5:\n",
    "                y.append(key[0])\n",
    "            else:\n",
    "                y.append(key[1])\n",
    "\n",
    "        c= Counter(y)\n",
    "        values, count =c.most_common()[0]\n",
    "#         print(values)\n",
    "        predicts.append(values)\n",
    "\n",
    "\n",
    "    for i in range(len(actual)):\n",
    "        if actual[i]==predicted[i]:\n",
    "            correct+=1 \n",
    "        else:\n",
    "            wrong+=1\n",
    "            \n",
    "    accuracy= (correct/(correct+wrong))\n",
    "    return accuracy"
   ]
  },
  {
   "cell_type": "code",
   "execution_count": 199,
   "metadata": {},
   "outputs": [
    {
     "data": {
      "text/plain": [
       "0.5201793721973094"
      ]
     },
     "execution_count": 199,
     "metadata": {},
     "output_type": "execute_result"
    }
   ],
   "source": [
    " validateonevsone(inputdata, testdata)"
   ]
  },
  {
   "cell_type": "code",
   "execution_count": null,
   "metadata": {},
   "outputs": [],
   "source": []
  }
 ],
 "metadata": {
  "kernelspec": {
   "display_name": "Python 3",
   "language": "python",
   "name": "python3"
  },
  "language_info": {
   "codemirror_mode": {
    "name": "ipython",
    "version": 3
   },
   "file_extension": ".py",
   "mimetype": "text/x-python",
   "name": "python",
   "nbconvert_exporter": "python",
   "pygments_lexer": "ipython3",
   "version": "3.7.1"
  }
 },
 "nbformat": 4,
 "nbformat_minor": 2
}
